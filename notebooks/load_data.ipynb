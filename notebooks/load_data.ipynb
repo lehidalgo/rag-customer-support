{
 "cells": [
  {
   "cell_type": "code",
   "execution_count": 3,
   "metadata": {},
   "outputs": [
    {
     "data": {
      "text/plain": [
       "'/Users/laht/projects/rag_customer_support'"
      ]
     },
     "execution_count": 3,
     "metadata": {},
     "output_type": "execute_result"
    }
   ],
   "source": [
    "pwd"
   ]
  },
  {
   "cell_type": "code",
   "execution_count": 2,
   "metadata": {},
   "outputs": [
    {
     "name": "stdout",
     "output_type": "stream",
     "text": [
      "/Users/laht/projects/rag_customer_support/rag_customer_support\n"
     ]
    },
    {
     "name": "stderr",
     "output_type": "stream",
     "text": [
      "/Users/laht/Library/Caches/pypoetry/virtualenvs/rag-customer-support-L7JonCSB-py3.12/lib/python3.12/site-packages/IPython/core/magics/osm.py:417: UserWarning: This is now an optional IPython functionality, setting dhist requires you to install the `pickleshare` library.\n",
      "  self.shell.db['dhist'] = compress_dhist(dhist)[-100:]\n"
     ]
    }
   ],
   "source": [
    "import sys\n",
    "sys.path.append('..')\n",
    "sys.path.append('../configs')\n",
    "%cd ../rag_customer_support"
   ]
  },
  {
   "cell_type": "markdown",
   "metadata": {},
   "source": [
    "### Example Usage of DataLoader"
   ]
  },
  {
   "cell_type": "code",
   "execution_count": 3,
   "metadata": {},
   "outputs": [
    {
     "name": "stdout",
     "output_type": "stream",
     "text": [
      "[2024-10-10 19:50:46] INFO - data_collection.data_loader - DataLoader initialized with sources: [{'type': 'local', 'directory': './data/local_documents', 'file_extensions': ['.txt', '.md', '.pdf']}, {'type': 'remote', 'urls': ['https://example.com/document1.txt', 'https://example.com/document2.txt']}]\n",
      "[2024-10-10 19:50:46] ERROR - data_collection.data_loader - Directory does not exist: ./data/local_documents\n"
     ]
    },
    {
     "ename": "",
     "evalue": "",
     "output_type": "error",
     "traceback": [
      "\u001b[1;31mCannot execute code, session has been disposed. Please try restarting the Kernel."
     ]
    },
    {
     "ename": "",
     "evalue": "",
     "output_type": "error",
     "traceback": [
      "\u001b[1;31mCannot execute code, session has been disposed. Please try restarting the Kernel. \n",
      "\u001b[1;31mView Jupyter <a href='command:jupyter.viewOutput'>log</a> for further details."
     ]
    }
   ],
   "source": [
    "from data_collection.data_loader import DataLoader\n",
    "\n",
    "# Initialize DataLoader with configuration file path\n",
    "data_loader = DataLoader(config_path=\"../configs/data_loader_config.yaml\")\n",
    "\n",
    "# Load documents\n",
    "documents = data_loader.load_data()\n",
    "\n",
    "# Now 'documents' is a list of strings containing the loaded content\n",
    "print(f\"Loaded {len(documents)} documents.\")"
   ]
  },
  {
   "cell_type": "markdown",
   "metadata": {},
   "source": [
    "### Example Usage of WebScraper"
   ]
  },
  {
   "cell_type": "code",
   "execution_count": 4,
   "metadata": {},
   "outputs": [
    {
     "name": "stdout",
     "output_type": "stream",
     "text": [
      "[2024-10-10 19:51:38] INFO - data_collection.web_scraper - WebScraper initialized with start URLs: ['https://example.com/support/faq', 'https://example.com/support/knowledge-base']\n"
     ]
    }
   ],
   "source": [
    "from data_collection.web_scraper import WebScraper\n",
    "\n",
    "# Initialize WebScraper with configuration file path\n",
    "web_scraper = WebScraper(config_path=\"../configs/web_scraper_config.yaml\")\n",
    "\n",
    "# Scrape web content\n",
    "scraped_documents = web_scraper.scrape()\n",
    "\n",
    "# Now 'scraped_documents' is a list of strings containing the scraped content\n",
    "print(f\"Scraped {len(scraped_documents)} documents.\")"
   ]
  }
 ],
 "metadata": {
  "kernelspec": {
   "display_name": "rag-customer-support-Xwrd6KNh-py3.12",
   "language": "python",
   "name": "python3"
  },
  "language_info": {
   "codemirror_mode": {
    "name": "ipython",
    "version": 3
   },
   "file_extension": ".py",
   "mimetype": "text/x-python",
   "name": "python",
   "nbconvert_exporter": "python",
   "pygments_lexer": "ipython3",
   "version": "3.12.0"
  }
 },
 "nbformat": 4,
 "nbformat_minor": 2
}
